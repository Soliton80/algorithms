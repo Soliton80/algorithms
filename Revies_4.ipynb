{
 "cells": [
  {
   "cell_type": "code",
   "execution_count": 1,
   "id": "90498df5",
   "metadata": {},
   "outputs": [],
   "source": [
    "push_keys = '131457214'\n",
    "permitted_keys = '123456789'\n",
    "result = [push_keys.count(elem) for elem in permitted_keys]"
   ]
  },
  {
   "cell_type": "code",
   "execution_count": 2,
   "id": "f2881b66",
   "metadata": {},
   "outputs": [
    {
     "data": {
      "text/plain": [
       "[3, 1, 1, 2, 1, 0, 1, 0, 0]"
      ]
     },
     "execution_count": 2,
     "metadata": {},
     "output_type": "execute_result"
    }
   ],
   "source": [
    "result"
   ]
  },
  {
   "cell_type": "code",
   "execution_count": null,
   "id": "9603b735",
   "metadata": {},
   "outputs": [],
   "source": []
  },
  {
   "cell_type": "code",
   "execution_count": 3,
   "id": "935e1c1d",
   "metadata": {},
   "outputs": [],
   "source": [
    "###"
   ]
  },
  {
   "cell_type": "code",
   "execution_count": 4,
   "id": "0e3a2581",
   "metadata": {},
   "outputs": [
    {
     "name": "stdout",
     "output_type": "stream",
     "text": [
      "[1, 2, 1, 3, 1, 1]\n"
     ]
    }
   ],
   "source": [
    "push_keys = '131457214'\n",
    "permitted_keys = '123456789'\n",
    "result = [push_keys.count(elem) for elem in set(push_keys)]\n",
    "print(result)"
   ]
  },
  {
   "cell_type": "code",
   "execution_count": null,
   "id": "b6df2982",
   "metadata": {},
   "outputs": [],
   "source": []
  },
  {
   "cell_type": "code",
   "execution_count": 5,
   "id": "5c35aa09",
   "metadata": {},
   "outputs": [],
   "source": [
    "###"
   ]
  },
  {
   "cell_type": "code",
   "execution_count": 6,
   "id": "ede7440a",
   "metadata": {},
   "outputs": [
    {
     "name": "stdout",
     "output_type": "stream",
     "text": [
      "[1, 2, 1, 1, 1]\n"
     ]
    }
   ],
   "source": [
    "capacity = 1\n",
    "gamers = 2\n",
    "push_keys = '131457214'\n",
    "permitted_keys = '123456789'\n",
    "result = [push_keys.count(elem) for elem in set(push_keys) if push_keys.count(elem)<=capacity*gamers]\n",
    "print(result)"
   ]
  },
  {
   "cell_type": "code",
   "execution_count": null,
   "id": "ce3d7a22",
   "metadata": {},
   "outputs": [],
   "source": []
  },
  {
   "cell_type": "code",
   "execution_count": 7,
   "id": "66262453",
   "metadata": {},
   "outputs": [],
   "source": [
    "##"
   ]
  },
  {
   "cell_type": "code",
   "execution_count": 8,
   "id": "cb296ccb",
   "metadata": {},
   "outputs": [
    {
     "name": "stdout",
     "output_type": "stream",
     "text": [
      "5\n"
     ]
    }
   ],
   "source": [
    "capacity = 1\n",
    "gamers = 2\n",
    "push_keys = '131457214'\n",
    "permitted_keys = '123456789'\n",
    "result = sum([1 for elem in set(push_keys) if push_keys.count(elem)<=capacity*gamers])\n",
    "print(result)"
   ]
  },
  {
   "cell_type": "code",
   "execution_count": 9,
   "id": "b827a0ff",
   "metadata": {},
   "outputs": [],
   "source": [
    "##"
   ]
  },
  {
   "cell_type": "code",
   "execution_count": 10,
   "id": "a6dd450a",
   "metadata": {},
   "outputs": [
    {
     "name": "stdout",
     "output_type": "stream",
     "text": [
      "5\n"
     ]
    }
   ],
   "source": [
    "capacity = 1\n",
    "gamers = 2\n",
    "push_keys = '131457214'\n",
    "permitted_keys = '123456789'\n",
    "result = sum([push_keys.count(elem)<=capacity*gamers for elem in set(push_keys)] )\n",
    "print(result)"
   ]
  },
  {
   "cell_type": "code",
   "execution_count": 11,
   "id": "2d63388b",
   "metadata": {},
   "outputs": [],
   "source": [
    "##"
   ]
  },
  {
   "cell_type": "code",
   "execution_count": 15,
   "id": "2dc98903",
   "metadata": {},
   "outputs": [
    {
     "name": "stdout",
     "output_type": "stream",
     "text": [
      "7\n"
     ]
    }
   ],
   "source": [
    "capacity = 1\n",
    "gamers = 2\n",
    "push_keys = '131457214'\n",
    "permitted_keys = '123456789'\n",
    "result = sum([push_keys.count(elem)<=capacity*gamers for elem in push_keys] )\n",
    "print(result)"
   ]
  },
  {
   "cell_type": "code",
   "execution_count": 13,
   "id": "864c0b40",
   "metadata": {},
   "outputs": [],
   "source": [
    "##"
   ]
  },
  {
   "cell_type": "code",
   "execution_count": 16,
   "id": "7d63f541",
   "metadata": {},
   "outputs": [
    {
     "name": "stdout",
     "output_type": "stream",
     "text": [
      "5\n"
     ]
    }
   ],
   "source": [
    "capacity = 1\n",
    "gamers = 2\n",
    "push_keys = '131457214'\n",
    "permitted_keys = '123456789'\n",
    "result = sum([push_keys.count(elem)<=capacity*gamers for elem in permitted_keys if push_keys.count(elem)] )\n",
    "print(result)"
   ]
  },
  {
   "cell_type": "code",
   "execution_count": null,
   "id": "7b18e6ea",
   "metadata": {},
   "outputs": [],
   "source": []
  },
  {
   "cell_type": "code",
   "execution_count": 19,
   "id": "e79728ab",
   "metadata": {},
   "outputs": [
    {
     "name": "stdout",
     "output_type": "stream",
     "text": [
      "5\n"
     ]
    }
   ],
   "source": [
    "### My favorite!\n",
    "capacity = 1\n",
    "gamers = 2\n",
    "push_keys = '131457214'\n",
    "permitted_keys = '123456789'\n",
    "result = sum([push_keys.count(elem)<=capacity*gamers for elem in set(push_keys)] )\n",
    "print(result)"
   ]
  },
  {
   "cell_type": "code",
   "execution_count": 20,
   "id": "0a3ac584",
   "metadata": {},
   "outputs": [],
   "source": [
    "# list comprehension!"
   ]
  },
  {
   "cell_type": "code",
   "execution_count": null,
   "id": "502ca7c8",
   "metadata": {},
   "outputs": [],
   "source": []
  },
  {
   "cell_type": "code",
   "execution_count": null,
   "id": "8750336c",
   "metadata": {},
   "outputs": [],
   "source": []
  },
  {
   "cell_type": "code",
   "execution_count": null,
   "id": "179624ff",
   "metadata": {},
   "outputs": [],
   "source": []
  },
  {
   "cell_type": "markdown",
   "id": "e3d0455a",
   "metadata": {},
   "source": [
    "### Assignment 2"
   ]
  },
  {
   "cell_type": "code",
   "execution_count": 30,
   "id": "6b1a85ad",
   "metadata": {},
   "outputs": [],
   "source": [
    "def get_distances(plots, zero='0') -> list:\n",
    "    results = [zero] * len(plots)\n",
    "    print(results)\n",
    "    zeros = [index for index, plot in enumerate(plots) if plot == zero]\n",
    "    first_zero = zeros[0]\n",
    "    last_zero = zeros[-1]\n",
    "    for index in range(first_zero):\n",
    "        results[index] = first_zero - index\n",
    "    for index in range(1, len(zeros)):\n",
    "        first_zero = zeros[index - 1]\n",
    "        for pos in range(first_zero+1, zeros[index]):\n",
    "            results[pos] = min(pos - first_zero, zeros[index] - pos)\n",
    "    for index in range(last_zero+1, len(plots)):\n",
    "        results[index] = index - last_zero\n",
    "    print(results)\n",
    "    return results"
   ]
  },
  {
   "cell_type": "code",
   "execution_count": 31,
   "id": "055f6826",
   "metadata": {},
   "outputs": [
    {
     "name": "stdout",
     "output_type": "stream",
     "text": [
      "0 7 9 4 8 20 0\n",
      "['0', '0', '0', '0', '0', '0', '0']\n",
      "['0', 1, 2, 3, 2, 1, '0']\n",
      "0 1 2 3 2 1 0\n"
     ]
    }
   ],
   "source": [
    "print(* get_distances(input().split()))"
   ]
  },
  {
   "cell_type": "code",
   "execution_count": null,
   "id": "2984b53d",
   "metadata": {},
   "outputs": [],
   "source": []
  },
  {
   "cell_type": "code",
   "execution_count": null,
   "id": "eaf844e5",
   "metadata": {},
   "outputs": [],
   "source": []
  },
  {
   "cell_type": "code",
   "execution_count": 32,
   "id": "c8f34abf",
   "metadata": {},
   "outputs": [],
   "source": [
    "### My version"
   ]
  },
  {
   "cell_type": "code",
   "execution_count": 40,
   "id": "bfd5a15a",
   "metadata": {},
   "outputs": [],
   "source": [
    "def get_distances(plots) -> list:\n",
    "    results = [0] * len(plots)\n",
    "    print(results)\n",
    "    zeros = [index for index, plot in enumerate(plots) if plot == '0']\n",
    "    print('zeros', zeros)\n",
    "    first_zero = zeros[0]\n",
    "    last_zero = zeros[-1]\n",
    "    for index in range(first_zero):\n",
    "        results[index] = first_zero - index\n",
    "    for index in range(1, len(zeros)):\n",
    "        first_zero = zeros[index - 1]\n",
    "        for pos in range(first_zero+1, zeros[index]):\n",
    "            results[pos] = min(pos - first_zero, zeros[index] - pos)\n",
    "    for index in range(last_zero+1, len(plots)):\n",
    "        results[index] = index - last_zero\n",
    "    print(results)\n",
    "    return results"
   ]
  },
  {
   "cell_type": "code",
   "execution_count": 41,
   "id": "3c1fa375",
   "metadata": {},
   "outputs": [
    {
     "name": "stdout",
     "output_type": "stream",
     "text": [
      "0 7 9 4 8 20 0\n",
      "[0, 0, 0, 0, 0, 0, 0]\n",
      "zeros [0, 6]\n",
      "[0, 1, 2, 3, 2, 1, 0]\n",
      "0 1 2 3 2 1 0\n"
     ]
    }
   ],
   "source": [
    "print(* get_distances(input().split()))"
   ]
  },
  {
   "cell_type": "code",
   "execution_count": null,
   "id": "8cc792b6",
   "metadata": {},
   "outputs": [],
   "source": []
  },
  {
   "cell_type": "code",
   "execution_count": null,
   "id": "ff44bf96",
   "metadata": {},
   "outputs": [],
   "source": [
    "# getData()"
   ]
  }
 ],
 "metadata": {
  "kernelspec": {
   "display_name": "Python 3.10.5 64-bit",
   "language": "python",
   "name": "python3"
  },
  "language_info": {
   "codemirror_mode": {
    "name": "ipython",
    "version": 3
   },
   "file_extension": ".py",
   "mimetype": "text/x-python",
   "name": "python",
   "nbconvert_exporter": "python",
   "pygments_lexer": "ipython3",
   "version": "3.10.5"
  },
  "vscode": {
   "interpreter": {
    "hash": "aee8b7b246df8f9039afb4144a1f6fd8d2ca17a180786b69acc140d282b71a49"
   }
  }
 },
 "nbformat": 4,
 "nbformat_minor": 5
}
